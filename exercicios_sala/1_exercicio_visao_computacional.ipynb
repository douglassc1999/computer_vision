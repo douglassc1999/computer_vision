{
  "nbformat": 4,
  "nbformat_minor": 0,
  "metadata": {
    "colab": {
      "name": "1-exercicio-visao-computacional.ipynb",
      "provenance": [],
      "collapsed_sections": []
    },
    "kernelspec": {
      "name": "python3",
      "display_name": "Python 3"
    }
  },
  "cells": [
    {
      "cell_type": "code",
      "metadata": {
        "id": "pDlqE7wYijMc",
        "colab_type": "code",
        "colab": {}
      },
      "source": [
        "import numpy as np"
      ],
      "execution_count": 0,
      "outputs": []
    },
    {
      "cell_type": "code",
      "metadata": {
        "id": "sb0zl9zjisRh",
        "colab_type": "code",
        "outputId": "7f95e92c-2b89-43ab-81ee-64d68e7504fa",
        "colab": {
          "base_uri": "https://localhost:8080/",
          "height": 68
        }
      },
      "source": [
        "# questao 1\n",
        "A = np.random.randint(0, 9,(3, 4))\n",
        "print(A)"
      ],
      "execution_count": 2,
      "outputs": [
        {
          "output_type": "stream",
          "text": [
            "[[4 0 3 4]\n",
            " [0 1 0 5]\n",
            " [4 5 6 4]]\n"
          ],
          "name": "stdout"
        }
      ]
    },
    {
      "cell_type": "code",
      "metadata": {
        "id": "AqrSlQPgjMEJ",
        "colab_type": "code",
        "outputId": "0b1807ca-a17b-47f5-a678-fc2d19bfabba",
        "colab": {
          "base_uri": "https://localhost:8080/",
          "height": 68
        }
      },
      "source": [
        "# questao 2\n",
        "B = np.random.randint(0, 9, (3, 4))\n",
        "print(B)"
      ],
      "execution_count": 3,
      "outputs": [
        {
          "output_type": "stream",
          "text": [
            "[[3 5 4 2]\n",
            " [5 6 5 6]\n",
            " [8 5 4 2]]\n"
          ],
          "name": "stdout"
        }
      ]
    },
    {
      "cell_type": "code",
      "metadata": {
        "id": "lOW3HmplkL_O",
        "colab_type": "code",
        "outputId": "daf75ee4-0c56-4bc0-ee98-0351f7697db5",
        "colab": {
          "base_uri": "https://localhost:8080/",
          "height": 68
        }
      },
      "source": [
        "# questao 3\n",
        "np.clip(A, 1, 4)"
      ],
      "execution_count": 4,
      "outputs": [
        {
          "output_type": "execute_result",
          "data": {
            "text/plain": [
              "array([[4, 1, 3, 4],\n",
              "       [1, 1, 1, 4],\n",
              "       [4, 4, 4, 4]])"
            ]
          },
          "metadata": {
            "tags": []
          },
          "execution_count": 4
        }
      ]
    },
    {
      "cell_type": "code",
      "metadata": {
        "id": "QtEimy7Akeab",
        "colab_type": "code",
        "outputId": "16523de9-7cf9-4fab-aa96-24c87290ae08",
        "colab": {
          "base_uri": "https://localhost:8080/",
          "height": 68
        }
      },
      "source": [
        "np.clip(B, 1, 4)"
      ],
      "execution_count": 5,
      "outputs": [
        {
          "output_type": "execute_result",
          "data": {
            "text/plain": [
              "array([[3, 4, 4, 2],\n",
              "       [4, 4, 4, 4],\n",
              "       [4, 4, 4, 2]])"
            ]
          },
          "metadata": {
            "tags": []
          },
          "execution_count": 5
        }
      ]
    },
    {
      "cell_type": "code",
      "metadata": {
        "id": "2vzl15iljYfQ",
        "colab_type": "code",
        "outputId": "37030786-8e1e-42fc-8567-151db8c35e4d",
        "colab": {
          "base_uri": "https://localhost:8080/",
          "height": 85
        }
      },
      "source": [
        "# questao 4\n",
        "print(A.dtype)\n",
        "print(B.dtype)\n",
        "\n",
        "print(A.shape)\n",
        "print(B.shape)\n"
      ],
      "execution_count": 6,
      "outputs": [
        {
          "output_type": "stream",
          "text": [
            "int64\n",
            "int64\n",
            "(3, 4)\n",
            "(3, 4)\n"
          ],
          "name": "stdout"
        }
      ]
    },
    {
      "cell_type": "code",
      "metadata": {
        "id": "tk98ttcMkkfi",
        "colab_type": "code",
        "outputId": "be2d2e21-4cdb-43ea-97bf-b9526aec45a2",
        "colab": {
          "base_uri": "https://localhost:8080/",
          "height": 68
        }
      },
      "source": [
        "# questao 5\n",
        "C = np.full((3,4), 2) \n",
        "C"
      ],
      "execution_count": 7,
      "outputs": [
        {
          "output_type": "execute_result",
          "data": {
            "text/plain": [
              "array([[2, 2, 2, 2],\n",
              "       [2, 2, 2, 2],\n",
              "       [2, 2, 2, 2]])"
            ]
          },
          "metadata": {
            "tags": []
          },
          "execution_count": 7
        }
      ]
    },
    {
      "cell_type": "code",
      "metadata": {
        "id": "Dvry0wMUlLVB",
        "colab_type": "code",
        "outputId": "325b7f09-99e9-40ec-9c84-f68cb7739ec9",
        "colab": {
          "base_uri": "https://localhost:8080/",
          "height": 68
        }
      },
      "source": [
        "# questao 6\n",
        "D = A + 2*B\n",
        "D"
      ],
      "execution_count": 8,
      "outputs": [
        {
          "output_type": "execute_result",
          "data": {
            "text/plain": [
              "array([[10, 10, 11,  8],\n",
              "       [10, 13, 10, 17],\n",
              "       [20, 15, 14,  8]])"
            ]
          },
          "metadata": {
            "tags": []
          },
          "execution_count": 8
        }
      ]
    },
    {
      "cell_type": "code",
      "metadata": {
        "id": "Jv4wt1q_lWeS",
        "colab_type": "code",
        "outputId": "5144ed48-7007-4b36-f546-dd7c527e7e23",
        "colab": {
          "base_uri": "https://localhost:8080/",
          "height": 85
        }
      },
      "source": [
        "# questao 7\n",
        "E = np.array(np.mat('1;2;3;4'))\n",
        "E"
      ],
      "execution_count": 9,
      "outputs": [
        {
          "output_type": "execute_result",
          "data": {
            "text/plain": [
              "array([[1],\n",
              "       [2],\n",
              "       [3],\n",
              "       [4]])"
            ]
          },
          "metadata": {
            "tags": []
          },
          "execution_count": 9
        }
      ]
    },
    {
      "cell_type": "code",
      "metadata": {
        "id": "uJh6uJOZl57s",
        "colab_type": "code",
        "outputId": "e2904c10-f88b-4ea2-de49-91999d61f6d7",
        "colab": {
          "base_uri": "https://localhost:8080/",
          "height": 68
        }
      },
      "source": [
        "# questao 8\n",
        "F = np.dot(B,E)\n",
        "F"
      ],
      "execution_count": 10,
      "outputs": [
        {
          "output_type": "execute_result",
          "data": {
            "text/plain": [
              "array([[33],\n",
              "       [56],\n",
              "       [38]])"
            ]
          },
          "metadata": {
            "tags": []
          },
          "execution_count": 10
        }
      ]
    },
    {
      "cell_type": "code",
      "metadata": {
        "id": "ScBb_2XHmgcp",
        "colab_type": "code",
        "outputId": "1b76ec96-cdec-4fc9-cf0f-15683d459751",
        "colab": {
          "base_uri": "https://localhost:8080/",
          "height": 68
        }
      },
      "source": [
        "# questao 9\n",
        "G = np.copy(F)\n",
        "G"
      ],
      "execution_count": 11,
      "outputs": [
        {
          "output_type": "execute_result",
          "data": {
            "text/plain": [
              "array([[33],\n",
              "       [56],\n",
              "       [38]])"
            ]
          },
          "metadata": {
            "tags": []
          },
          "execution_count": 11
        }
      ]
    },
    {
      "cell_type": "code",
      "metadata": {
        "id": "B9pk5AmNmzqQ",
        "colab_type": "code",
        "outputId": "c4569563-3b79-421c-f1ac-4f875080d2ef",
        "colab": {
          "base_uri": "https://localhost:8080/",
          "height": 34
        }
      },
      "source": [
        "# questao 10\n",
        "np.sum(A)"
      ],
      "execution_count": 12,
      "outputs": [
        {
          "output_type": "execute_result",
          "data": {
            "text/plain": [
              "36"
            ]
          },
          "metadata": {
            "tags": []
          },
          "execution_count": 12
        }
      ]
    },
    {
      "cell_type": "code",
      "metadata": {
        "id": "uRD2ld7pm60Y",
        "colab_type": "code",
        "outputId": "85b8b354-400f-42f3-ccb3-df0fe05af953",
        "colab": {
          "base_uri": "https://localhost:8080/",
          "height": 34
        }
      },
      "source": [
        "# questao 11\n",
        "A = A.astype(float)\n",
        "A.dtype"
      ],
      "execution_count": 13,
      "outputs": [
        {
          "output_type": "execute_result",
          "data": {
            "text/plain": [
              "dtype('float64')"
            ]
          },
          "metadata": {
            "tags": []
          },
          "execution_count": 13
        }
      ]
    },
    {
      "cell_type": "code",
      "metadata": {
        "id": "HnylIrhvnJgB",
        "colab_type": "code",
        "outputId": "b93555ae-2152-4989-9f0e-be0230f74ef9",
        "colab": {
          "base_uri": "https://localhost:8080/",
          "height": 85
        }
      },
      "source": [
        "# questao 12\n",
        "A = np.resize(A,(4,3))\n",
        "A"
      ],
      "execution_count": 14,
      "outputs": [
        {
          "output_type": "execute_result",
          "data": {
            "text/plain": [
              "array([[4., 0., 3.],\n",
              "       [4., 0., 1.],\n",
              "       [0., 5., 4.],\n",
              "       [5., 6., 4.]])"
            ]
          },
          "metadata": {
            "tags": []
          },
          "execution_count": 14
        }
      ]
    },
    {
      "cell_type": "code",
      "metadata": {
        "id": "HZi4BZwLoKw-",
        "colab_type": "code",
        "outputId": "c8742267-9880-4e69-fbcc-9edd5410dad5",
        "colab": {
          "base_uri": "https://localhost:8080/",
          "height": 34
        }
      },
      "source": [
        "# questao 13\n",
        "np.concatenate((A[0], A[1], A[2]))"
      ],
      "execution_count": 15,
      "outputs": [
        {
          "output_type": "execute_result",
          "data": {
            "text/plain": [
              "array([4., 0., 3., 4., 0., 1., 0., 5., 4.])"
            ]
          },
          "metadata": {
            "tags": []
          },
          "execution_count": 15
        }
      ]
    },
    {
      "cell_type": "code",
      "metadata": {
        "id": "zsVLBAzDoNNw",
        "colab_type": "code",
        "outputId": "4f838576-8276-4e42-ae45-628bc90ffa00",
        "colab": {
          "base_uri": "https://localhost:8080/",
          "height": 102
        }
      },
      "source": [
        "# questao 14\n",
        "newrow = [1.,2.,3.]\n",
        "A = np.vstack([A, newrow])\n",
        "A"
      ],
      "execution_count": 16,
      "outputs": [
        {
          "output_type": "execute_result",
          "data": {
            "text/plain": [
              "array([[4., 0., 3.],\n",
              "       [4., 0., 1.],\n",
              "       [0., 5., 4.],\n",
              "       [5., 6., 4.],\n",
              "       [1., 2., 3.]])"
            ]
          },
          "metadata": {
            "tags": []
          },
          "execution_count": 16
        }
      ]
    },
    {
      "cell_type": "code",
      "metadata": {
        "id": "YeXiyY0zonNu",
        "colab_type": "code",
        "outputId": "55d0cbf2-67b5-43dc-e9e7-23ef06102dc3",
        "colab": {
          "base_uri": "https://localhost:8080/",
          "height": 34
        }
      },
      "source": [
        "# questao 15\n",
        "np.linspace(0,1,5) "
      ],
      "execution_count": 17,
      "outputs": [
        {
          "output_type": "execute_result",
          "data": {
            "text/plain": [
              "array([0.  , 0.25, 0.5 , 0.75, 1.  ])"
            ]
          },
          "metadata": {
            "tags": []
          },
          "execution_count": 17
        }
      ]
    }
  ]
}