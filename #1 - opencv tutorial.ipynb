{
 "cells": [
  {
   "cell_type": "markdown",
   "metadata": {},
   "source": [
    "<h1>Tutorial 1</h1>\n",
    "\n",
    "Link: <a>https://docs.opencv.org/4.2.0/dc/d2e/tutorial_py_image_display.html</a>"
   ]
  },
  {
   "cell_type": "code",
   "execution_count": null,
   "metadata": {},
   "outputs": [],
   "source": [
    "#importando módulo opencv\n",
    "import cv2 as cv\n",
    "print(cv.__version__)\n",
    "\n",
    "#importando o numpy\n",
    "import numpy as np"
   ]
  },
  {
   "cell_type": "markdown",
   "metadata": {},
   "source": [
    "<h2>Getting Started with Images</h2>\n",
    "Usa-se a função cv.imread() para ler uma imagem. A imagem deve estar no mesmo diretório de trabalho ou dever ser fornecido o caminho absoluto.\n",
    "\n",
    "<h3>Flags</h3>\n",
    "<ul>\n",
    "    <li>cv.IMREAD_COLOR : Carrega uma imagem com cor. Qualquer transparência será negligenciada. É o padrão </li>\n",
    "<li>cv.IMREAD_GRAYSCALE : Carrega numa escala de cinza</li>\n",
    "<li>cv.IMREAD_UNCHANGED : Carrega a imagem sem alterações, incluindo o canal alpha(?) </li>\n",
    "</ul>"
   ]
  },
  {
   "cell_type": "code",
   "execution_count": null,
   "metadata": {},
   "outputs": [],
   "source": [
    "img = cv.imread('juninho.jpg', 0)"
   ]
  },
  {
   "cell_type": "markdown",
   "metadata": {},
   "source": [
    "<h2>Display an image</h2>\n",
    "Usa-se a função cv.imshow() para mostrar uma imagem. A janela vai se ajustar ao tamnho da imagem automaticamente."
   ]
  },
  {
   "cell_type": "code",
   "execution_count": null,
   "metadata": {},
   "outputs": [],
   "source": [
    "cv.imshow('imagem', img)\n",
    "cv.waitKey(0)\n",
    "cv.destroyAllWindows()"
   ]
  }
 ],
 "metadata": {
  "kernelspec": {
   "display_name": "Python 3",
   "language": "python",
   "name": "python3"
  },
  "language_info": {
   "codemirror_mode": {
    "name": "ipython",
    "version": 3
   },
   "file_extension": ".py",
   "mimetype": "text/x-python",
   "name": "python",
   "nbconvert_exporter": "python",
   "pygments_lexer": "ipython3",
   "version": "3.7.1"
  }
 },
 "nbformat": 4,
 "nbformat_minor": 2
}
